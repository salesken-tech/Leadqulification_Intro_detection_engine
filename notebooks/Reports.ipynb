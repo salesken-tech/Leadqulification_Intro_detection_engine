{
 "cells": [
  {
   "cell_type": "code",
   "execution_count": 57,
   "metadata": {},
   "outputs": [],
   "source": [
    "import pandas as pd"
   ]
  },
  {
   "cell_type": "code",
   "execution_count": 106,
   "metadata": {},
   "outputs": [],
   "source": [
    "df_old=pd.read_excel(\"/home/andy/Desktop/xyz.xlsx\",index_col=0)\n",
    "df_old.fillna(\"0\",inplace=True)"
   ]
  },
  {
   "cell_type": "code",
   "execution_count": 107,
   "metadata": {},
   "outputs": [],
   "source": [
    "single_sentences_len=0\n",
    "less_than_5=0\n",
    "good_signlas_len=0\n",
    "for i in range(len(df_old)):\n",
    "    if df_old[\"signal_text\"][i] != \"0\":\n",
    "        if len(df_old[\"signal_text\"][i].split()) <2:\n",
    "            single_sentences_len+=1\n",
    "        elif len(df_old[\"signal_text\"][i].split())>=2 and len(df_old[\"signal_text\"][i].split())<=5:\n",
    "            less_than_5+=1\n",
    "        else:\n",
    "            good_signlas_len+=1\n",
    "        "
   ]
  },
  {
   "cell_type": "code",
   "execution_count": 108,
   "metadata": {},
   "outputs": [
    {
     "data": {
      "text/plain": [
       "926"
      ]
     },
     "execution_count": 108,
     "metadata": {},
     "output_type": "execute_result"
    }
   ],
   "source": [
    "single_sentences_len"
   ]
  },
  {
   "cell_type": "code",
   "execution_count": 112,
   "metadata": {},
   "outputs": [
    {
     "data": {
      "image/png": "[encoded data removed]",
      "text/plain": [
       "<Figure size 432x288 with 1 Axes>"
      ]
     },
     "metadata": {},
     "output_type": "display_data"
    },
    {
     "data": {
      "text/plain": [
       "<Figure size 432x288 with 0 Axes>"
      ]
     },
     "metadata": {},
     "output_type": "display_data"
    }
   ],
   "source": [
    "import matplotlib.pyplot as plt\n",
    "\n",
    "\n",
    "# Data to plot\n",
    "# f= plt.figure()\n",
    "labels = 'Single_word_Signals', 'less _than_5',\"Good-Signals\"\n",
    "sizes = [single_sentences_len, less_than_5,good_signlas_len]\n",
    "colors = ['salmon', 'aqua','green']\n",
    "explode = (0.1,0.5,0.5)  # explode 1st slice\n",
    "\n",
    "# Plot\n",
    "plt.pie(sizes, explode=explode, labels=labels, colors=colors,\n",
    "autopct='%1.1f%%', shadow=False, startangle=140)\n",
    "\n",
    "plt.axis('equal')\n",
    "plt.show()\n",
    "plt.savefig('/home/andy/Desktop/signal_analysis_old.jpg')\n",
    "\n",
    "# f.savefig(\"/home/andy/Desktop/signal_analysis_old.pdf\", bbox_inches='tight')"
   ]
  },
  {
   "cell_type": "code",
   "execution_count": 194,
   "metadata": {},
   "outputs": [
    {
     "data": {
      "text/html": [
       "<div>\n",
       "<style scoped>\n",
       "    .dataframe tbody tr th:only-of-type {\n",
       "        vertical-align: middle;\n",
       "    }\n",
       "\n",
       "    .dataframe tbody tr th {\n",
       "        vertical-align: top;\n",
       "    }\n",
       "\n",
       "    .dataframe thead th {\n",
       "        text-align: right;\n",
       "    }\n",
       "</style>\n",
       "<table border=\"1\" class=\"dataframe\">\n",
       "  <thead>\n",
       "    <tr style=\"text-align: right;\">\n",
       "      <th></th>\n",
       "      <th>snippet_id</th>\n",
       "      <th>task_id</th>\n",
       "    </tr>\n",
       "  </thead>\n",
       "  <tbody>\n",
       "    <tr>\n",
       "      <th>count</th>\n",
       "      <td>2.509000e+03</td>\n",
       "      <td>2.509000e+03</td>\n",
       "    </tr>\n",
       "    <tr>\n",
       "      <th>mean</th>\n",
       "      <td>3.120480e+06</td>\n",
       "      <td>1.827623e+07</td>\n",
       "    </tr>\n",
       "    <tr>\n",
       "      <th>std</th>\n",
       "      <td>4.268164e+05</td>\n",
       "      <td>3.032868e+04</td>\n",
       "    </tr>\n",
       "    <tr>\n",
       "      <th>min</th>\n",
       "      <td>2.346505e+06</td>\n",
       "      <td>1.820802e+07</td>\n",
       "    </tr>\n",
       "    <tr>\n",
       "      <th>25%</th>\n",
       "      <td>3.017299e+06</td>\n",
       "      <td>1.827269e+07</td>\n",
       "    </tr>\n",
       "    <tr>\n",
       "      <th>50%</th>\n",
       "      <td>3.029934e+06</td>\n",
       "      <td>1.827348e+07</td>\n",
       "    </tr>\n",
       "    <tr>\n",
       "      <th>75%</th>\n",
       "      <td>3.234044e+06</td>\n",
       "      <td>1.829001e+07</td>\n",
       "    </tr>\n",
       "    <tr>\n",
       "      <th>max</th>\n",
       "      <td>4.560115e+06</td>\n",
       "      <td>1.835448e+07</td>\n",
       "    </tr>\n",
       "  </tbody>\n",
       "</table>\n",
       "</div>"
      ],
      "text/plain": [
       "         snippet_id       task_id\n",
       "count  2.509000e+03  2.509000e+03\n",
       "mean   3.120480e+06  1.827623e+07\n",
       "std    4.268164e+05  3.032868e+04\n",
       "min    2.346505e+06  1.820802e+07\n",
       "25%    3.017299e+06  1.827269e+07\n",
       "50%    3.029934e+06  1.827348e+07\n",
       "75%    3.234044e+06  1.829001e+07\n",
       "max    4.560115e+06  1.835448e+07"
      ]
     },
     "execution_count": 194,
     "metadata": {},
     "output_type": "execute_result"
    }
   ],
   "source": [
    "df_old.describe()"
   ]
  },
  {
   "cell_type": "code",
   "execution_count": 81,
   "metadata": {},
   "outputs": [
    {
     "data": {
      "image/png": "[encoded data removed]",
      "text/plain": [
       "<Figure size 432x288 with 1 Axes>"
      ]
     },
     "metadata": {},
     "output_type": "display_data"
    }
   ],
   "source": [
    "signal_caught=0\n",
    "not_caught=0\n",
    "for i in range(len(df_old)):\n",
    "    if df_old.signal_text[i] != '0':\n",
    "        signal_caught+=1\n",
    "    else:\n",
    "        not_caught+=1\n",
    "\n",
    "f= plt.figure()\n",
    "labels = 'Signal_caught', 'Not_caught'\n",
    "sizes = [signal_caught, not_caught]\n",
    "colors = ['green', 'aqua']\n",
    "explode = (0.1,0)  # explode 1st slice\n",
    "\n",
    "# Plot\n",
    "plt.pie(sizes, explode=explode, labels=labels, colors=colors,\n",
    "autopct='%1.1f%%', shadow=False, startangle=140)\n",
    "\n",
    "plt.axis('equal')\n",
    "plt.show()\n",
    "f.savefig(\"/home/andy/Desktop/analysis.pdf\", bbox_inches='tight')"
   ]
  },
  {
   "cell_type": "code",
   "execution_count": 94,
   "metadata": {},
   "outputs": [
    {
     "data": {
      "text/plain": [
       "['snippet_id',\n",
       " 'speaker',\n",
       " 'text',\n",
       " 'task_id',\n",
       " 'signal_generated_id',\n",
       " 'name',\n",
       " 'score',\n",
       " 'match_method',\n",
       " 'signal_text']"
      ]
     },
     "execution_count": 94,
     "metadata": {},
     "output_type": "execute_result"
    }
   ],
   "source": [
    "df_old.columns.to_list()"
   ]
  },
  {
   "cell_type": "code",
   "execution_count": 122,
   "metadata": {},
   "outputs": [
    {
     "data": {
      "text/plain": [
       "65"
      ]
     },
     "execution_count": 122,
     "metadata": {},
     "output_type": "execute_result"
    }
   ],
   "source": [
    "len(df_old['signal_generated_id'].unique())"
   ]
  },
  {
   "cell_type": "code",
   "execution_count": 120,
   "metadata": {},
   "outputs": [
    {
     "data": {
      "text/plain": [
       "1822"
      ]
     },
     "execution_count": 120,
     "metadata": {},
     "output_type": "execute_result"
    }
   ],
   "source": [
    "len(df_old['snippet_id'].unique())"
   ]
  },
  {
   "cell_type": "code",
   "execution_count": 123,
   "metadata": {},
   "outputs": [
    {
     "data": {
      "text/plain": [
       "28.03076923076923"
      ]
     },
     "execution_count": 123,
     "metadata": {},
     "output_type": "execute_result"
    }
   ],
   "source": [
    "1822/65"
   ]
  },
  {
   "cell_type": "code",
   "execution_count": 131,
   "metadata": {},
   "outputs": [],
   "source": [
    "cached_snippet_ids=[]\n",
    "caught_singals=0\n",
    "for i in range(len(df_old)):\n",
    "    if df_old[\"signal_generated_id\"][i] != '0':\n",
    "        caught_singals+=1\n",
    "        if len(cached_snippet_ids)==0:\n",
    "            cached_snippet_ids.append(df_old['snippet_id'][i])\n",
    "        else:\n",
    "            if df_old['snippet_id'][i] not in cached_snippet_ids:\n",
    "                cached_snippet_ids.append(df_old[\"snippet_id\"][i])\n",
    "        \n",
    "        \n",
    "    "
   ]
  },
  {
   "cell_type": "code",
   "execution_count": 132,
   "metadata": {},
   "outputs": [
    {
     "data": {
      "text/plain": [
       "276"
      ]
     },
     "execution_count": 132,
     "metadata": {},
     "output_type": "execute_result"
    }
   ],
   "source": [
    "len(cached_snippet_ids)"
   ]
  },
  {
   "cell_type": "code",
   "execution_count": 133,
   "metadata": {},
   "outputs": [
    {
     "data": {
      "text/plain": [
       "963"
      ]
     },
     "execution_count": 133,
     "metadata": {},
     "output_type": "execute_result"
    }
   ],
   "source": [
    "caught_singals"
   ]
  },
  {
   "cell_type": "code",
   "execution_count": 193,
   "metadata": {},
   "outputs": [
    {
     "data": {
      "text/plain": [
       "3.489130434782609"
      ]
     },
     "execution_count": 193,
     "metadata": {},
     "output_type": "execute_result"
    }
   ],
   "source": [
    "963/276"
   ]
  },
  {
   "cell_type": "code",
   "execution_count": 139,
   "metadata": {},
   "outputs": [],
   "source": [
    "tmp_dict={}\n",
    "for unique_id in cached_snippet_ids:\n",
    "    tmp_dict[int(unique_id)]=[]\n",
    "    for i in range(len(df_old)):\n",
    "        if unique_id==df_old[\"snippet_id\"][i]:\n",
    "            tmp_dict[int(unique_id)].append(int(df_old[\"signal_generated_id\"][i]))\n",
    "    "
   ]
  },
  {
   "cell_type": "code",
   "execution_count": 143,
   "metadata": {},
   "outputs": [],
   "source": [
    "final_dict={}\n",
    "for key in tmp_dict.keys():\n",
    "    final_dict[key]=len(tmp_dict[key])\n",
    "    "
   ]
  },
  {
   "cell_type": "code",
   "execution_count": 152,
   "metadata": {},
   "outputs": [],
   "source": [
    "x=list(final_dict.keys())\n",
    "y=list(final_dict.values())"
   ]
  },
  {
   "cell_type": "code",
   "execution_count": 165,
   "metadata": {},
   "outputs": [],
   "source": [
    "import numpy as np\n",
    "import seaborn as sns"
   ]
  },
  {
   "cell_type": "code",
   "execution_count": 192,
   "metadata": {},
   "outputs": [
    {
     "data": {
      "image/png": "[encoded data removed]",
      "text/plain": [
       "<Figure size 432x288 with 1 Axes>"
      ]
     },
     "metadata": {},
     "output_type": "display_data"
    }
   ],
   "source": [
    "data=[]\n",
    "for i in range(len(y)):\n",
    "    data.extend([x[i]]*y[i])\n",
    "sns.set_style('whitegrid')\n",
    "fig=sns.kdeplot(data=np.array(data), bw=0.2,shade=True)\n",
    "fig.figure.suptitle(\"Snippet_Signal_frequency\", fontsize = 24)\n",
    "fig.figure.savefig(\"/home/andy/Desktop/snippet_signal_frequency.png\")\n"
   ]
  },
  {
   "cell_type": "code",
   "execution_count": 187,
   "metadata": {},
   "outputs": [
    {
     "data": {
      "text/plain": [
       "<matplotlib.axes._subplots.AxesSubplot at 0x7fd572185b00>"
      ]
     },
     "execution_count": 187,
     "metadata": {},
     "output_type": "execute_result"
    }
   ],
   "source": []
  },
  {
   "cell_type": "code",
   "execution_count": 172,
   "metadata": {},
   "outputs": [
    {
     "data": {
      "text/plain": [
       "[0, 0, 1, 1, 1]"
      ]
     },
     "execution_count": 172,
     "metadata": {},
     "output_type": "execute_result"
    }
   ],
   "source": []
  },
  {
   "cell_type": "code",
   "execution_count": null,
   "metadata": {},
   "outputs": [],
   "source": []
  }
 ],
 "metadata": {
  "kernelspec": {
   "display_name": "Python3",
   "language": "python",
   "name": "python3"
  },
  "language_info": {
   "codemirror_mode": {
    "name": "ipython",
    "version": 3
   },
   "file_extension": ".py",
   "mimetype": "text/x-python",
   "name": "python",
   "nbconvert_exporter": "python",
   "pygments_lexer": "ipython3",
   "version": "3.6.8"
  }
 },
 "nbformat": 4,
 "nbformat_minor": 2
}
