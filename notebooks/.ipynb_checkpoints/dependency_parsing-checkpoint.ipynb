{
 "cells": [
  {
   "cell_type": "code",
   "execution_count": 1,
   "metadata": {},
   "outputs": [],
   "source": [
    "import spacy\n",
    "nlp = spacy.load(\"en_core_web_sm\")"
   ]
  },
  {
   "cell_type": "markdown",
   "metadata": {},
   "source": [
    "# preprocessor text"
   ]
  },
  {
   "cell_type": "code",
   "execution_count": 2,
   "metadata": {},
   "outputs": [],
   "source": [
    "def is_token_allowed(token):\n",
    "    \"\"\"\n",
    "    This funtion removes the stop words and punctuations \n",
    "    \"\"\"\n",
    "    if (not token or not token.string.strip() or token.is_stop \n",
    "        or token.is_punct):\n",
    "        return False\n",
    "    return True\n",
    "\n",
    "def lematizer(token):\n",
    "    return token.lemma_.strip().lower()\n",
    "\n",
    "def sentence_preprocessor(sentence):\n",
    "    doc=nlp(sentence)\n",
    "    return [lematizer(token) for token in doc if is_token_allowed(token)]\n",
    "    "
   ]
  },
  {
   "cell_type": "code",
   "execution_count": 3,
   "metadata": {},
   "outputs": [],
   "source": [
    "x=sentence_preprocessor(\"I am looking for a three bedroom apartment with a huge lawn\")"
   ]
  },
  {
   "cell_type": "code",
   "execution_count": 4,
   "metadata": {},
   "outputs": [],
   "source": [
    "x=' '.join([word for word in x ]).strip()\n",
    "    "
   ]
  },
  {
   "cell_type": "code",
   "execution_count": 5,
   "metadata": {},
   "outputs": [
    {
     "data": {
      "text/plain": [
       "'look bedroom apartment huge lawn'"
      ]
     },
     "execution_count": 5,
     "metadata": {},
     "output_type": "execute_result"
    }
   ],
   "source": [
    "x"
   ]
  },
  {
   "cell_type": "markdown",
   "metadata": {},
   "source": [
    "# Tree parsing"
   ]
  },
  {
   "cell_type": "code",
   "execution_count": 15,
   "metadata": {},
   "outputs": [],
   "source": [
    "sen=\"Byjus is the world's largest ed-tech company\"\n"
   ]
  },
  {
   "cell_type": "code",
   "execution_count": 16,
   "metadata": {},
   "outputs": [],
   "source": [
    "doc=nlp(sen)"
   ]
  },
  {
   "cell_type": "code",
   "execution_count": 17,
   "metadata": {},
   "outputs": [],
   "source": [
    "#extracting children nodes for noun\n",
    "def flatten_tree(tree):\n",
    "    return ''.join([token.text_with_ws for token in list(tree)]).strip()\n",
    "\n",
    "        "
   ]
  },
  {
   "cell_type": "code",
   "execution_count": 18,
   "metadata": {
    "scrolled": true
   },
   "outputs": [],
   "source": [
    "np=[]\n",
    "for tok in doc:\n",
    "    if tok.pos_ == \"NOUN\":\n",
    "        np.append(flatten_tree(tok.subtree))"
   ]
  },
  {
   "cell_type": "code",
   "execution_count": 19,
   "metadata": {},
   "outputs": [
    {
     "data": {
      "text/plain": [
       "[\"the world's\", 'ed', 'ed-tech', \"the world's largest ed-tech company\"]"
      ]
     },
     "execution_count": 19,
     "metadata": {},
     "output_type": "execute_result"
    }
   ],
   "source": [
    "np"
   ]
  },
  {
   "cell_type": "code",
   "execution_count": 20,
   "metadata": {},
   "outputs": [
    {
     "name": "stdout",
     "output_type": "stream",
     "text": [
      "world\n",
      "ed\n",
      "ed tech\n",
      "world large ed tech company\n"
     ]
    }
   ],
   "source": [
    "#clean text\n",
    "for item in np:\n",
    "    print(' '.join([word for word in sentence_preprocessor(item)]).strip())"
   ]
  },
  {
   "cell_type": "markdown",
   "metadata": {},
   "source": [
    "# extracting verb_phrases and noun phrases"
   ]
  },
  {
   "cell_type": "code",
   "execution_count": 59,
   "metadata": {},
   "outputs": [],
   "source": [
    "import textacy\n",
    "sen=\"Byjus is the world's largest ed-tech company\"\n"
   ]
  },
  {
   "cell_type": "code",
   "execution_count": 60,
   "metadata": {},
   "outputs": [],
   "source": [
    "pattern = r'(<VERB>?<ADV>*<VERB>+)'\n",
    "doc=textacy.make_spacy_doc(sen,lang='en_core_web_sm')"
   ]
  },
  {
   "cell_type": "code",
   "execution_count": 67,
   "metadata": {},
   "outputs": [
    {
     "name": "stdout",
     "output_type": "stream",
     "text": [
      "[Byjus, is, the, world, 's, largest, ed, tech, company]\n",
      "!!!!!!!!!!!!!!!!!!!!!!\n",
      "[Byjus is, is the, the world, world's, 's largest, largest ed, tech company]\n",
      "!!!!!!!!!!!!!!!!!!!!!!\n",
      "[Byjus is the, is the world, the world's, world's largest, 's largest ed]\n",
      "!!!!!!!!!!!!!!!!!!!!!!\n",
      "[Byjus is the world, is the world's, the world's largest, world's largest ed]\n",
      "!!!!!!!!!!!!!!!!!!!!!!\n",
      "[Byjus is the world's, is the world's largest, the world's largest ed]\n",
      "!!!!!!!!!!!!!!!!!!!!!!\n",
      "[Byjus is the world's largest, is the world's largest ed]\n",
      "!!!!!!!!!!!!!!!!!!!!!!\n",
      "[Byjus is the world's largest ed]\n",
      "!!!!!!!!!!!!!!!!!!!!!!\n",
      "TIme=0.0008604526519775391\n"
     ]
    }
   ],
   "source": [
    "import time\n",
    "s=time.time()\n",
    "for i in range(len(sen.split())):\n",
    "    verb_phrase = textacy.extract.ngrams(doc,n=i+1, filter_stops=False)\n",
    "    print([item for item in verb_phrase])\n",
    "    \n",
    "    print(\"!!!!!!!!!!!!!!!!!!!!!!\")\n",
    "print(\"TIme={}\".format(time.time()-s))\n"
   ]
  },
  {
   "cell_type": "code",
   "execution_count": 62,
   "metadata": {},
   "outputs": [
    {
     "name": "stdout",
     "output_type": "stream",
     "text": [
      "Byjus is\n",
      "is the\n",
      "the world\n",
      "world's\n",
      "'s largest\n",
      "largest ed\n",
      "tech company\n"
     ]
    }
   ],
   "source": [
    "for item in verb_phrase:\n",
    "    print(item)"
   ]
  },
  {
   "cell_type": "code",
   "execution_count": null,
   "metadata": {},
   "outputs": [],
   "source": []
  },
  {
   "cell_type": "code",
   "execution_count": null,
   "metadata": {},
   "outputs": [],
   "source": []
  }
 ],
 "metadata": {
  "kernelspec": {
   "display_name": "Python3",
   "language": "python",
   "name": "python3"
  },
  "language_info": {
   "codemirror_mode": {
    "name": "ipython",
    "version": 3
   },
   "file_extension": ".py",
   "mimetype": "text/x-python",
   "name": "python",
   "nbconvert_exporter": "python",
   "pygments_lexer": "ipython3",
   "version": "3.6.8"
  }
 },
 "nbformat": 4,
 "nbformat_minor": 2
}
