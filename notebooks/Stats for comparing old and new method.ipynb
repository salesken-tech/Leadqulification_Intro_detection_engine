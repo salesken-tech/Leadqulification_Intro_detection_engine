{
 "cells": [
  {
   "cell_type": "code",
   "execution_count": 91,
   "metadata": {},
   "outputs": [],
   "source": [
    "import pandas as pd\n",
    "import psycopg2 "
   ]
  },
  {
   "cell_type": "code",
   "execution_count": 92,
   "metadata": {},
   "outputs": [],
   "source": [
    "conn = psycopg2.connect(host=\"35.200.234.61\",database=\"sales\", user=\"postgres\", password=\"cx6ac54nmgGtLD1y\")"
   ]
  },
  {
   "cell_type": "code",
   "execution_count": 93,
   "metadata": {},
   "outputs": [],
   "source": [
    "sql=\"\"\"select\n",
    "\tsnippet.task_id,\n",
    "\tsignal_caught.snippet_id,\n",
    "\tsignal_caught.signal_generated_id,\n",
    "\tsnippet.text_ as snippet_text,\n",
    "\tsignal_generated.text_ as signal_text,\n",
    "\tproduct_signal.\"name\",\n",
    "\tsignal_caught.score,\n",
    "\tsignal_caught.match_method\n",
    "from\n",
    "\tsignal_caught\n",
    "left join signal_generated on\n",
    "\tsignal_generated.id = signal_caught.signal_generated_id\n",
    "left join product_signal on\n",
    "\tproduct_signal.id = signal_generated.signal_id\n",
    "left join snippet on\n",
    "\tsnippet.id = signal_caught.snippet_id\n",
    "where\n",
    "\tsignal_caught.snippet_id in (\n",
    "\tselect\n",
    "\t\tsnippet.id\n",
    "\tfrom\n",
    "\t\tsnippet\n",
    "\twhere\n",
    "\t\tsnippet.task_id in(18345945,\n",
    "\t18345927,\n",
    "\t18345926))\n",
    "and signal_caught.match_method = 'USE'\n",
    "order by snippet.id asc\"\"\""
   ]
  },
  {
   "cell_type": "code",
   "execution_count": 94,
   "metadata": {},
   "outputs": [],
   "source": [
    "caught_singal_df=pd.read_sql_query(sql,conn)"
   ]
  },
  {
   "cell_type": "code",
   "execution_count": 95,
   "metadata": {},
   "outputs": [],
   "source": [
    "caught_singal_df.rename(columns={\"snippet_id\":'id'},inplace=True)"
   ]
  },
  {
   "cell_type": "code",
   "execution_count": 96,
   "metadata": {},
   "outputs": [
    {
     "data": {
      "text/plain": [
       "['task_id',\n",
       " 'id',\n",
       " 'signal_generated_id',\n",
       " 'snippet_text',\n",
       " 'signal_text',\n",
       " 'name',\n",
       " 'score',\n",
       " 'match_method']"
      ]
     },
     "execution_count": 96,
     "metadata": {},
     "output_type": "execute_result"
    }
   ],
   "source": [
    "caught_singal_df.columns.to_list()"
   ]
  },
  {
   "cell_type": "code",
   "execution_count": 97,
   "metadata": {},
   "outputs": [],
   "source": [
    "caught_singal_df.drop(columns=[\"task_id\",\"snippet_text\"],axis=1,inplace=True)"
   ]
  },
  {
   "cell_type": "code",
   "execution_count": 98,
   "metadata": {},
   "outputs": [],
   "source": [
    "sql=\"select * from snippet where snippet.task_id in (18345945,18345927,18345926) order by snippet.id asc\""
   ]
  },
  {
   "cell_type": "code",
   "execution_count": 99,
   "metadata": {},
   "outputs": [],
   "source": [
    "snippet_df=pd.read_sql_query(sql,conn)"
   ]
  },
  {
   "cell_type": "code",
   "execution_count": 100,
   "metadata": {},
   "outputs": [
    {
     "data": {
      "text/plain": [
       "(103, 10)"
      ]
     },
     "execution_count": 100,
     "metadata": {},
     "output_type": "execute_result"
    }
   ],
   "source": [
    "snippet_df.shape"
   ]
  },
  {
   "cell_type": "code",
   "execution_count": 101,
   "metadata": {},
   "outputs": [
    {
     "data": {
      "text/plain": [
       "['id',\n",
       " 'from_time',\n",
       " 'to_time',\n",
       " 'confidence',\n",
       " 'text_',\n",
       " 'speaker',\n",
       " 'task_id',\n",
       " 'language_code',\n",
       " 'english_text',\n",
       " 'transliterated_text']"
      ]
     },
     "execution_count": 101,
     "metadata": {},
     "output_type": "execute_result"
    }
   ],
   "source": [
    "snippet_df.columns.to_list()"
   ]
  },
  {
   "cell_type": "code",
   "execution_count": 102,
   "metadata": {},
   "outputs": [],
   "source": [
    "snippet_df.drop([\"confidence\",\"language_code\",\"english_text\",\"transliterated_text\"],axis=1,inplace=True)"
   ]
  },
  {
   "cell_type": "code",
   "execution_count": 103,
   "metadata": {},
   "outputs": [
    {
     "data": {
      "text/html": [
       "<div>\n",
       "<style scoped>\n",
       "    .dataframe tbody tr th:only-of-type {\n",
       "        vertical-align: middle;\n",
       "    }\n",
       "\n",
       "    .dataframe tbody tr th {\n",
       "        vertical-align: top;\n",
       "    }\n",
       "\n",
       "    .dataframe thead th {\n",
       "        text-align: right;\n",
       "    }\n",
       "</style>\n",
       "<table border=\"1\" class=\"dataframe\">\n",
       "  <thead>\n",
       "    <tr style=\"text-align: right;\">\n",
       "      <th></th>\n",
       "      <th>id</th>\n",
       "      <th>from_time</th>\n",
       "      <th>to_time</th>\n",
       "      <th>text_</th>\n",
       "      <th>speaker</th>\n",
       "      <th>task_id</th>\n",
       "    </tr>\n",
       "  </thead>\n",
       "  <tbody>\n",
       "    <tr>\n",
       "      <th>0</th>\n",
       "      <td>4369284</td>\n",
       "      <td>3.21</td>\n",
       "      <td>8.01</td>\n",
       "      <td>Hello.</td>\n",
       "      <td>Customer</td>\n",
       "      <td>18345926</td>\n",
       "    </tr>\n",
       "    <tr>\n",
       "      <th>1</th>\n",
       "      <td>4369285</td>\n",
       "      <td>5.40</td>\n",
       "      <td>6.87</td>\n",
       "      <td>Hi.</td>\n",
       "      <td>Agent</td>\n",
       "      <td>18345926</td>\n",
       "    </tr>\n",
       "    <tr>\n",
       "      <th>2</th>\n",
       "      <td>4369286</td>\n",
       "      <td>6.99</td>\n",
       "      <td>9.24</td>\n",
       "      <td>Good afternoon. Am I speaking with?</td>\n",
       "      <td>Agent</td>\n",
       "      <td>18345926</td>\n",
       "    </tr>\n",
       "    <tr>\n",
       "      <th>3</th>\n",
       "      <td>4369287</td>\n",
       "      <td>10.47</td>\n",
       "      <td>12.24</td>\n",
       "      <td>pk</td>\n",
       "      <td>Customer</td>\n",
       "      <td>18345926</td>\n",
       "    </tr>\n",
       "    <tr>\n",
       "      <th>4</th>\n",
       "      <td>4369288</td>\n",
       "      <td>12.99</td>\n",
       "      <td>14.40</td>\n",
       "      <td>Hi Chirag</td>\n",
       "      <td>Agent</td>\n",
       "      <td>18345926</td>\n",
       "    </tr>\n",
       "  </tbody>\n",
       "</table>\n",
       "</div>"
      ],
      "text/plain": [
       "        id  from_time  to_time                                text_   speaker  \\\n",
       "0  4369284       3.21     8.01                               Hello.  Customer   \n",
       "1  4369285       5.40     6.87                                  Hi.     Agent   \n",
       "2  4369286       6.99     9.24  Good afternoon. Am I speaking with?     Agent   \n",
       "3  4369287      10.47    12.24                                   pk  Customer   \n",
       "4  4369288      12.99    14.40                            Hi Chirag     Agent   \n",
       "\n",
       "    task_id  \n",
       "0  18345926  \n",
       "1  18345926  \n",
       "2  18345926  \n",
       "3  18345926  \n",
       "4  18345926  "
      ]
     },
     "execution_count": 103,
     "metadata": {},
     "output_type": "execute_result"
    }
   ],
   "source": [
    "snippet_df.head()"
   ]
  },
  {
   "cell_type": "code",
   "execution_count": 104,
   "metadata": {},
   "outputs": [],
   "source": [
    "out=snippet_df.merge(caught_singal_df,on=\"id\",how=\"left\")\n"
   ]
  },
  {
   "cell_type": "code",
   "execution_count": 106,
   "metadata": {},
   "outputs": [],
   "source": [
    "out.to_excel(\"../src/resources/present_system.xlsx\",index=None)"
   ]
  },
  {
   "cell_type": "code",
   "execution_count": 107,
   "metadata": {},
   "outputs": [],
   "source": [
    "new_snippet=snippet_df[[\"speaker\",\"text_\"]].copy()"
   ]
  },
  {
   "cell_type": "code",
   "execution_count": 110,
   "metadata": {},
   "outputs": [],
   "source": [
    "new_snippet.rename(columns={'text_':\"text\"},inplace=True)"
   ]
  },
  {
   "cell_type": "code",
   "execution_count": 111,
   "metadata": {},
   "outputs": [],
   "source": [
    "new_snippet.to_excel(\"/home/andy/Desktop/new_test.xlsx\",index=None)"
   ]
  },
  {
   "cell_type": "code",
   "execution_count": null,
   "metadata": {},
   "outputs": [],
   "source": []
  }
 ],
 "metadata": {
  "kernelspec": {
   "display_name": "Python3",
   "language": "python",
   "name": "python3"
  },
  "language_info": {
   "codemirror_mode": {
    "name": "ipython",
    "version": 3
   },
   "file_extension": ".py",
   "mimetype": "text/x-python",
   "name": "python",
   "nbconvert_exporter": "python",
   "pygments_lexer": "ipython3",
   "version": "3.6.8"
  }
 },
 "nbformat": 4,
 "nbformat_minor": 2
}
